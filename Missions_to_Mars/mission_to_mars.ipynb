{
 "cells": [
  {
   "cell_type": "code",
   "execution_count": 49,
   "metadata": {},
   "outputs": [],
   "source": [
    "# I worked with my TA, Jay Yu, on this homework during a joint homework help session on April 9, 2021. "
   ]
  },
  {
   "cell_type": "code",
   "execution_count": 87,
   "metadata": {},
   "outputs": [
    {
     "name": "stderr",
     "output_type": "stream",
     "text": [
      "[WDM] - ====== WebDriver manager ======\n",
      "[WDM] - Current google-chrome version is 89.0.4389\n",
      "[WDM] - Get LATEST driver version for 89.0.4389\n"
     ]
    },
    {
     "name": "stdout",
     "output_type": "stream",
     "text": [
      "\n",
      "\n"
     ]
    },
    {
     "name": "stderr",
     "output_type": "stream",
     "text": [
      "[WDM] - Driver [/Users/Kylee/.wdm/drivers/chromedriver/mac64/89.0.4389.23/chromedriver] found in cache\n"
     ]
    }
   ],
   "source": [
    "# Import dependencies \n",
    "from splinter import Browser\n",
    "from bs4 import BeautifulSoup as soup\n",
    "import pandas as pd\n",
    "from webdriver_manager.chrome import ChromeDriverManager\n",
    "import time\n",
    "from pprint import pprint\n",
    "\n",
    "# Import ChromeDriver: \n",
    "executable_path = {'executable_path': ChromeDriverManager().install()}\n"
   ]
  },
  {
   "cell_type": "markdown",
   "metadata": {},
   "source": [
    "### NASA Mars News"
   ]
  },
  {
   "cell_type": "code",
   "execution_count": 36,
   "metadata": {},
   "outputs": [],
   "source": [
    "# Scrape the NASA Mars News Site (https://mars.nasa.gov/news/) and collect the latest News Title and Paragraph Text. \n",
    "# Assign the text to variables that you can reference later.\n",
    "\n",
    "# Open and let load\n",
    "browser = Browser('chrome', **executable_path, headless=False)\n",
    "url = 'https://redplanetscience.com/'\n",
    "browser.visit(url)\n",
    "time.sleep(2)\n",
    "\n",
    "# Grab HTML \n",
    "html = browser.html \n",
    "news_soup = soup(html, 'html.parser')\n",
    "\n",
    "# Close it\n",
    "browser.quit()\n"
   ]
  },
  {
   "cell_type": "code",
   "execution_count": 50,
   "metadata": {},
   "outputs": [],
   "source": [
    "# Use this to view the result\n",
    "# news_soup"
   ]
  },
  {
   "cell_type": "code",
   "execution_count": 51,
   "metadata": {},
   "outputs": [],
   "source": [
    "# Grabbing the pieces using the classes\n",
    "mars_news_result = news_soup.find_all('div', class_='list_text')[0]\n",
    "news_title = mars_news_result.find('div', class_=\"content_title\").text\n",
    "news_p = mars_news_result.find('div', class_=\"article_teaser_body\").text\n"
   ]
  },
  {
   "cell_type": "markdown",
   "metadata": {},
   "source": [
    "### JPL Mars Space Images - Featured Image"
   ]
  },
  {
   "cell_type": "code",
   "execution_count": 54,
   "metadata": {},
   "outputs": [],
   "source": [
    "# Visit the url for JPL Featured Space Image here: https://data-class-jpl-space.s3.amazonaws.com/JPL_Space/index.html\n",
    "# Use splinter to navigate the site and find the image url for the current Featured Mars Image \n",
    "# and assign the url string to a variable called featured_image_url.\n",
    "\n",
    "# Open and let load\n",
    "browser = Browser('chrome', **executable_path, headless=False)\n",
    "url = 'https://spaceimages-mars.com/'\n",
    "browser.visit(url)\n",
    "time.sleep(2)\n",
    "\n",
    "# Grab HTML \n",
    "html = browser.html \n",
    "spaceimage_soup = soup(html, 'html.parser')\n",
    "\n",
    "# Close it\n",
    "browser.quit()\n"
   ]
  },
  {
   "cell_type": "code",
   "execution_count": 67,
   "metadata": {},
   "outputs": [],
   "source": [
    "#spaceimage_soup"
   ]
  },
  {
   "cell_type": "code",
   "execution_count": 65,
   "metadata": {},
   "outputs": [],
   "source": [
    "# Grabbing the pieces using the classes\n",
    "spaceimage_soup_result = spaceimage_result = spaceimage_soup.find_all('div', class_='floating_text_area')[0]\n",
    "featured_image_url_href = spaceimage_soup_result.find('a', class_='showimg fancybox-thumbs').get('href')\n"
   ]
  },
  {
   "cell_type": "code",
   "execution_count": 66,
   "metadata": {},
   "outputs": [
    {
     "data": {
      "text/plain": [
       "'https://spaceimages-mars.com/image/featured/mars3.jpg'"
      ]
     },
     "execution_count": 66,
     "metadata": {},
     "output_type": "execute_result"
    }
   ],
   "source": [
    "# Connect this href to the base url to get the full size image \n",
    "featured_image_url = url + featured_image_url_href\n",
    "featured_image_url\n"
   ]
  },
  {
   "cell_type": "markdown",
   "metadata": {},
   "source": [
    "### Mars Facts"
   ]
  },
  {
   "cell_type": "code",
   "execution_count": 79,
   "metadata": {},
   "outputs": [],
   "source": [
    "# Visit the Mars Facts webpage here (https://space-facts.com/mars/) and use Pandas to scrape the table containing facts about the planet including Diameter, Mass, etc.\n",
    "# Use Pandas to convert the data to a HTML table string.\n",
    "mars_table = pd.read_html('https://space-facts.com/mars/')[0]\n",
    "\n",
    "# Changing column names \n",
    "mars_table.columns = ['Description', 'Metrics']\n",
    "mars_table_html = mars_table.to_html()\n"
   ]
  },
  {
   "cell_type": "markdown",
   "metadata": {},
   "source": [
    "### Mars Hemispheres"
   ]
  },
  {
   "cell_type": "code",
   "execution_count": 126,
   "metadata": {},
   "outputs": [],
   "source": [
    "# Visit the USGS Astrogeology site for images for each of Mars' hemispheres: https://astrogeology.usgs.gov/search/results?q=hemisphere+enhanced&k1=target&v1=Mars\n",
    "# You will need to click each of the links to the hemispheres in order to find the image url to the full resolution image.\n",
    "\n",
    "# Open and let load\n",
    "browser = Browser('chrome', **executable_path, headless=False)\n",
    "url = 'https://marshemispheres.com/'\n",
    "browser.visit(url)\n",
    "time.sleep(2)\n",
    "\n",
    "# Grab HTML \n",
    "html = browser.html \n",
    "hemisphere_soup = soup(html, 'html.parser')\n",
    "\n",
    "# Close it\n",
    "browser.quit()\n"
   ]
  },
  {
   "cell_type": "code",
   "execution_count": 95,
   "metadata": {},
   "outputs": [],
   "source": [
    "#hemisphere_soup"
   ]
  },
  {
   "cell_type": "code",
   "execution_count": 127,
   "metadata": {},
   "outputs": [
    {
     "name": "stdout",
     "output_type": "stream",
     "text": [
      "<a class=\"itemLink product-item\" href=\"cerberus.html\"><img alt=\"Cerberus Hemisphere Enhanced thumbnail\" class=\"thumb\" src=\"images/39d3266553462198bd2fbc4d18fbed17_cerberus_enhanced.tif_thumb.png\"/></a>\n",
      "<a class=\"itemLink product-item\" href=\"cerberus.html\">\n",
      "<h3>Cerberus Hemisphere Enhanced</h3>\n",
      "</a>\n",
      "<a class=\"itemLink product-item\" href=\"schiaparelli.html\"><img alt=\"Schiaparelli Hemisphere Enhanced thumbnail\" class=\"thumb\" src=\"images/08eac6e22c07fb1fe72223a79252de20_schiaparelli_enhanced.tif_thumb.png\"/></a>\n",
      "<a class=\"itemLink product-item\" href=\"schiaparelli.html\">\n",
      "<h3>Schiaparelli Hemisphere Enhanced</h3>\n",
      "</a>\n",
      "<a class=\"itemLink product-item\" href=\"syrtis.html\"><img alt=\"Syrtis Major Hemisphere Enhanced thumbnail\" class=\"thumb\" src=\"images/55a0a1e2796313fdeafb17c35925e8ac_syrtis_major_enhanced.tif_thumb.png\"/></a>\n",
      "<a class=\"itemLink product-item\" href=\"syrtis.html\">\n",
      "<h3>Syrtis Major Hemisphere Enhanced</h3>\n",
      "</a>\n",
      "<a class=\"itemLink product-item\" href=\"valles.html\"><img alt=\"Valles Marineris Hemisphere Enhanced thumbnail\" class=\"thumb\" src=\"images/4e59980c1c57f89c680c0e1ccabbeff1_valles_marineris_enhanced.tif_thumb.png\"/></a>\n",
      "<a class=\"itemLink product-item\" href=\"valles.html\">\n",
      "<h3>Valles Marineris Hemisphere Enhanced</h3>\n",
      "</a>\n",
      "<a class=\"itemLink product-item\" href=\"#\" onclick=\"showMain()\">\n",
      "<h3>Back</h3>\n",
      "</a>\n"
     ]
    }
   ],
   "source": [
    "# Grabbing the href using the classes\n",
    "hemisphere_img_list = hemisphere_soup.find_all('a', class_='itemLink product-item')\n",
    "\n",
    "# Prepare for the next step \n",
    "hrefs = []\n",
    "\n",
    "for img_url in hemisphere_img_list: \n",
    "    print(img_url)\n",
    "    hrefs.append(img_url.get('href'))\n",
    "\n",
    "hrefs = hrefs[:-1]\n",
    "hrefs = list(set(hrefs)) \n"
   ]
  },
  {
   "cell_type": "code",
   "execution_count": 134,
   "metadata": {},
   "outputs": [
    {
     "data": {
      "text/plain": [
       "[{'title': 'Syrtis Major Hemisphere', 'img_url': 'https://marshemispheres.com/images/syrtis_major_enhanced-full.jpg'}, {'title': 'Valles Marineris Hemisphere', 'img_url': 'https://marshemispheres.com/images/valles_marineris_enhanced-full.jpg'}, {'title': 'Schiaparelli Hemisphere', 'img_url': 'https://marshemispheres.com/images/schiaparelli_enhanced-full.jpg'}, {'title': 'Cerberus Hemisphere', 'img_url': 'https://marshemispheres.com/images/full.jpg'}]"
      ]
     },
     "execution_count": 134,
     "metadata": {},
     "output_type": "execute_result"
    }
   ],
   "source": [
    "# Make empty list for final urls and titles\n",
    "hemisphere_img_urls = []\n",
    "\n",
    "# Open browser\n",
    "browser = Browser('chrome', **executable_path, headless=False)\n",
    "\n",
    "for img_url in hrefs:\n",
    "    secondary_link = url + img_url\n",
    "    \n",
    "    # Visit and let load\n",
    "    browser.visit(secondary_link)\n",
    "    time.sleep(2)\n",
    "    \n",
    "    # Grab HTML \n",
    "    html = browser.html\n",
    "    secondary_link_soup = soup(html, 'html.parser')\n",
    "    \n",
    "    # Find the title\n",
    "    img_title = secondary_link_soup.find('h2', class_='title').text \n",
    "    img_title = img_title.replace(' Enhanced','')\n",
    "    \n",
    "    # Append sample url to final urls\n",
    "    final_url = secondary_link_soup.find('a', text = 'Sample').get('href')\n",
    "    final_url = url + final_url # combine with base url\n",
    "    \n",
    "    d = {\"title\": img_title, \"img_url\": final_url}\n",
    "    hemisphere_img_urls.append(d)\n",
    "    \n",
    "# Close it\n",
    "browser.quit()\n",
    "\n",
    "# Check out our current progress \n",
    "hemisphere_img_urls\n"
   ]
  },
  {
   "cell_type": "code",
   "execution_count": null,
   "metadata": {},
   "outputs": [],
   "source": []
  }
 ],
 "metadata": {
  "kernelspec": {
   "display_name": "Python 3",
   "language": "python",
   "name": "python3"
  },
  "language_info": {
   "codemirror_mode": {
    "name": "ipython",
    "version": 3
   },
   "file_extension": ".py",
   "mimetype": "text/x-python",
   "name": "python",
   "nbconvert_exporter": "python",
   "pygments_lexer": "ipython3",
   "version": "3.8.3"
  }
 },
 "nbformat": 4,
 "nbformat_minor": 4
}
